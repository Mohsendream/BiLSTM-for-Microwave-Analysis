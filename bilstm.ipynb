{
 "cells": [
  {
   "cell_type": "code",
   "execution_count": 2,
   "id": "3a28084c",
   "metadata": {
    "execution": {
     "iopub.execute_input": "2021-11-17T18:50:10.399021Z",
     "iopub.status.busy": "2021-11-17T18:50:10.398335Z",
     "iopub.status.idle": "2021-11-17T18:50:16.220542Z",
     "shell.execute_reply": "2021-11-17T18:50:16.219630Z",
     "shell.execute_reply.started": "2021-11-01T22:00:14.370535Z"
    },
    "papermill": {
     "duration": 5.853121,
     "end_time": "2021-11-17T18:50:16.220690",
     "exception": false,
     "start_time": "2021-11-17T18:50:10.367569",
     "status": "completed"
    },
    "tags": []
   },
   "outputs": [],
   "source": [
    "import warnings\n",
    "warnings.filterwarnings('ignore')\n",
    "from pandas import read_csv\n",
    "from tensorflow.keras.models import load_model\n",
    "import pandas as pd\n",
    "import numpy as np\n",
    "from tensorflow.keras.models import Sequential\n",
    "from tensorflow.keras.layers import Dense\n",
    "from tensorflow.keras.wrappers.scikit_learn import KerasRegressor\n",
    "from sklearn.model_selection import cross_val_score\n",
    "from sklearn.model_selection import KFold\n",
    "from sklearn.preprocessing import StandardScaler\n",
    "from sklearn.pipeline import Pipeline\n",
    "from sklearn.model_selection import train_test_split\n",
    "from sklearn.metrics import mean_squared_error,mean_absolute_error\n",
    "import seaborn as sns\n",
    "import matplotlib.pyplot as plt\n",
    "from pylab import boxplot, text\n",
    "from tensorflow.keras.layers import Dense , Dropout,MaxPool2D\n",
    "from tensorflow.keras.layers import LeakyReLU\n",
    "import time\n",
    "import math\n",
    "import tensorflow as tf\n",
    "from tensorflow.keras import backend as k\n",
    "from tensorflow import keras\n",
    "from tensorflow.keras.layers import Dense, Conv1D, Flatten\n",
    "from sklearn.metrics import r2_score\n",
    "from tensorflow.keras import layers,models\n",
    "from tensorflow.keras import callbacks\n",
    "#from tensorflow.keras.utils.vis_utils import plot_model\n",
    "import datetime\n",
    "from tensorflow.keras.layers import Bidirectional\n",
    "\n",
    "from tensorflow.keras.layers import LSTM\n",
    "from keras import backend as k\n",
    "\n"
   ]
  },
  {
   "cell_type": "code",
   "execution_count": 4,
   "id": "05f36cad",
   "metadata": {
    "execution": {
     "iopub.execute_input": "2021-11-17T18:50:16.315355Z",
     "iopub.status.busy": "2021-11-17T18:50:16.314509Z",
     "iopub.status.idle": "2021-11-17T18:50:25.937236Z",
     "shell.execute_reply": "2021-11-17T18:50:25.936725Z",
     "shell.execute_reply.started": "2021-11-01T22:00:22.608568Z"
    },
    "papermill": {
     "duration": 9.644757,
     "end_time": "2021-11-17T18:50:25.937384",
     "exception": false,
     "start_time": "2021-11-17T18:50:16.292627",
     "status": "completed"
    },
    "tags": []
   },
   "outputs": [],
   "source": [
    "## Load data\n",
    "df_11=pd.read_csv(r\"../input/siwads/1_3.csv\",header=None)\n",
    "df_22=pd.read_csv(r\"../input/siwads/3_6.csv\",header=None)\n",
    "df_33=pd.read_csv(r\"../input/siwads/6_9.csv\",header=None)\n",
    "df_44=pd.read_csv(r\"../input/siwads/9_12.csv\",header=None)\n",
    "df_55=pd.read_csv(r\"../input/siwads/12_15.csv\",header=None)\n",
    "df_66=pd.read_csv(r\"../input/siwads/15_18.csv\",header=None)\n",
    "df_77=pd.read_csv(r\"../input/siwads/18_20.csv\",header=None)\n",
    "frames = [df_11, df_22,df_33,df_44,df_55,df_66,df_77]\n",
    "df = pd.concat(frames)\n",
    "\n"
   ]
  },
  {
   "cell_type": "code",
   "execution_count": 5,
   "id": "4e25aec6",
   "metadata": {
    "execution": {
     "iopub.execute_input": "2021-11-17T18:50:25.980862Z",
     "iopub.status.busy": "2021-11-17T18:50:25.980104Z",
     "iopub.status.idle": "2021-11-17T18:50:25.982108Z",
     "shell.execute_reply": "2021-11-17T18:50:25.982518Z",
     "shell.execute_reply.started": "2021-11-01T22:00:41.302012Z"
    },
    "papermill": {
     "duration": 0.028399,
     "end_time": "2021-11-17T18:50:25.982646",
     "exception": false,
     "start_time": "2021-11-17T18:50:25.954247",
     "status": "completed"
    },
    "tags": []
   },
   "outputs": [],
   "source": [
    "# rename columns for more readability\n",
    "df.rename({0: 'H',\n",
    "           1: 'Er',\n",
    "           2: 'L',\n",
    "           3: 'W',\n",
    "           4: 'freq',\n",
    "           5: 'amp_S11',\n",
    "           6: 'phase_S11',\n",
    "           7:'amp_S21',\n",
    "           8:'phase_S21',}, axis=1, inplace=True)\n",
    "#df_S21=pd.DataFrame(df, columns = ['Er', 'L', 'B','A','freq','amp_S21','phase_S21'])"
   ]
  },
  {
   "cell_type": "code",
   "execution_count": 6,
   "id": "b47361bd",
   "metadata": {
    "execution": {
     "iopub.execute_input": "2021-11-17T18:50:26.024501Z",
     "iopub.status.busy": "2021-11-17T18:50:26.023415Z",
     "iopub.status.idle": "2021-11-17T18:50:27.237817Z",
     "shell.execute_reply": "2021-11-17T18:50:27.238430Z",
     "shell.execute_reply.started": "2021-11-01T22:03:46.918061Z"
    },
    "papermill": {
     "duration": 1.239244,
     "end_time": "2021-11-17T18:50:27.238632",
     "exception": false,
     "start_time": "2021-11-17T18:50:25.999388",
     "status": "completed"
    },
    "tags": []
   },
   "outputs": [
    {
     "name": "stdout",
     "output_type": "stream",
     "text": [
      "trained data :  4416403\n",
      "tested and validation data : 1104101\n"
     ]
    }
   ],
   "source": [
    "\n",
    "dataset=df.values\n",
    "##features\n",
    "X=dataset[:,0:5]\n",
    "#reshape into tensors\n",
    "X = X.reshape(X.shape[0], X.shape[1], 1)\n",
    "## targets\n",
    "S_11 = dataset[:,5]\n",
    "S_21=dataset[:,7]\n",
    "phaseS11=dataset[:,6]\n",
    "phaseS21=dataset[:,8]\n",
    "# choose what targets u want to predict\n",
    "Y=np.column_stack((S_11,S_21))\n",
    "#Y=np.column_stack((phaseS11,phaseS21))\n",
    "\n",
    "## split data\n",
    "\n",
    "xtrain, xtest, ytrain, ytest=train_test_split(X, Y, test_size=0.20,random_state=42)\n",
    "xtest_valid,xvalid,ytest_valid,yvalid= train_test_split(xtest, ytest, test_size=0.5,random_state=42)\n",
    "\n",
    "print('trained data : ',round(len(dataset)*0.80))\n",
    "print('tested and validation data :',(round(len(dataset)*0.2)))\n"
   ]
  },
  {
   "cell_type": "code",
   "execution_count": 7,
   "id": "0cecf5a2",
   "metadata": {
    "execution": {
     "iopub.execute_input": "2021-11-17T18:50:27.278872Z",
     "iopub.status.busy": "2021-11-17T18:50:27.278066Z",
     "iopub.status.idle": "2021-11-17T18:50:27.280722Z",
     "shell.execute_reply": "2021-11-17T18:50:27.280275Z"
    },
    "papermill": {
     "duration": 0.024141,
     "end_time": "2021-11-17T18:50:27.280829",
     "exception": false,
     "start_time": "2021-11-17T18:50:27.256688",
     "status": "completed"
    },
    "tags": []
   },
   "outputs": [],
   "source": [
    "## I used a normalized mean square error\n",
    "def NMSE (y_true, y_pred):\n",
    "    nom = k.sum(k.square(k.abs(10**(y_true/20)-10**(y_pred/20))))\n",
    "    denom = k.sum(k.square(k.abs(10**(y_true/20))))\n",
    "    nmse = nom/denom\n",
    "    #nmse1 = 10*k.log(nmse)\n",
    "    return nmse"
   ]
  },
  {
   "cell_type": "code",
   "execution_count": 8,
   "id": "5ceaaea4",
   "metadata": {
    "execution": {
     "iopub.execute_input": "2021-11-17T18:50:27.388851Z",
     "iopub.status.busy": "2021-11-17T18:50:27.388069Z",
     "iopub.status.idle": "2021-11-17T18:50:27.390408Z",
     "shell.execute_reply": "2021-11-17T18:50:27.390838Z",
     "shell.execute_reply.started": "2021-11-01T22:10:15.72769Z"
    },
    "papermill": {
     "duration": 0.025489,
     "end_time": "2021-11-17T18:50:27.390975",
     "exception": false,
     "start_time": "2021-11-17T18:50:27.365486",
     "status": "completed"
    },
    "tags": []
   },
   "outputs": [],
   "source": [
    "def NMSE_test (a, b):\n",
    "    diff=[]\n",
    "    denom1=[]\n",
    "    for i in range(len(a)):\n",
    "        diff.append(np.square(np.abs(10**(a[i]/20)-10**(b[i]/20))))\n",
    "        denom1.append(np.square(np.abs(10**(a[i]/20))))\n",
    "    nom = np.sum(diff)\n",
    "    denom=np.sum(denom1)\n",
    "    nmse = nom/denom\n",
    "    #nmse1 = 10*k.log(nmse)\n",
    "    return nmse"
   ]
  },
  {
   "cell_type": "code",
   "execution_count": 18,
   "id": "1cf1af7c",
   "metadata": {
    "execution": {
     "iopub.execute_input": "2021-11-17T18:50:27.893801Z",
     "iopub.status.busy": "2021-11-17T18:50:27.892924Z",
     "iopub.status.idle": "2021-11-17T18:50:27.895054Z",
     "shell.execute_reply": "2021-11-17T18:50:27.895503Z"
    },
    "papermill": {
     "duration": 0.024369,
     "end_time": "2021-11-17T18:50:27.895619",
     "exception": false,
     "start_time": "2021-11-17T18:50:27.871250",
     "status": "completed"
    },
    "tags": []
   },
   "outputs": [],
   "source": [
    "  early_stop = keras.callbacks.EarlyStopping(monitor = 'val_loss',\n",
    "                                           patience = 20)"
   ]
  },
  {
   "cell_type": "code",
   "execution_count": 19,
   "id": "d54da18b",
   "metadata": {
    "execution": {
     "iopub.execute_input": "2021-11-17T18:50:27.939927Z",
     "iopub.status.busy": "2021-11-17T18:50:27.939106Z",
     "iopub.status.idle": "2021-11-17T18:50:27.945929Z",
     "shell.execute_reply": "2021-11-17T18:50:27.945504Z"
    },
    "papermill": {
     "duration": 0.032437,
     "end_time": "2021-11-17T18:50:27.946027",
     "exception": false,
     "start_time": "2021-11-17T18:50:27.913590",
     "status": "completed"
    },
    "tags": []
   },
   "outputs": [],
   "source": [
    " \n",
    "unit=70\n",
    "tf.keras.backend.clear_session()\n",
    "#Model declaration\n",
    "model = Sequential()\n",
    "model.add(Bidirectional(LSTM(units = unit,                             \n",
    "         return_sequences=True),\n",
    "         input_shape=(xtrain.shape[1], xtrain.shape[2])))\n",
    "##model.add(Dropout(0.2))\n",
    "model.add(Bidirectional(LSTM(units = unit,                             \n",
    "         return_sequences=True)))\n",
    "#model.add(Dropout(0.2))\n",
    "#model.add(Bidirectional(LSTM(units = unit,return_sequences=True)))\n",
    "model.add(Bidirectional(LSTM(units = unit)))\n",
    "model.add(Dropout(0.2))\n",
    "model.add(Dense(2))\n",
    "#Compile model\n",
    "model.compile(loss=NMSE, optimizer='adam', metrics=NMSE)\n",
    "#Train the model\n",
    "history = model.fit(xtrain, ytrain,validation_data=(xvalid,yvalid),callbacks=[early_stop],epochs=200,batch_size=5000, verbose=1)\n",
    "#evaluate the model\n",
    "print(\"evaluate = \",model.evaluate(xtrain, ytrain))\n",
    "ypred = model.predict(xtest_valid)\n",
    "#Global NMSE\n",
    "NMSEG=NMSE_test(ytest_valid, ypred)\n",
    "NMSElog=10*np.log10(NMSEG)\n",
    "print(\"NMSE: %.4f\" %(NMSEG) )\n",
    "#NMSE the first target\n",
    "NMSEG1=NMSE_test(ytest_valid[:,0], ypred[:,0])\n",
    "NMSElog1=10*np.log10(NMSEG1)\n",
    "#NMSE the second target\n",
    "NMSEG2=NMSE_test(ytest_valid[:,1], ypred[:,1])\n",
    "NMSElog2=10*np.log10(NMSEG2)\n",
    "#save the metrics\n",
    "file = open(\"LSTM_phase_3L_%s.txt\"%(unit), \"w\")\n",
    " #convert variable to string\n",
    "file.write(\"nmse = \" +repr(NMSEG)+\"/n\"+\"nmselog = \" +repr(NMSElog)\n",
    "          +\"/n\"+\"nmse1 = \" +repr(NMSEG1)+\"/n\"+\"nmselog1 = \" +repr(NMSElog1)\n",
    "          +\"/n\"+\"nmse2 = \" +repr(NMSEG2)+\"/n\"+\"nmselog2 = \" +repr(NMSElog2))\n",
    "#close file\n",
    "file.close()\n",
    "hist=history\n",
    "#save the model\n",
    "model.save(\"./LSTM_phase_3L_%s.h5\"%(unit))\n",
    "print(\"Saved model to disk\")\n",
    "#save the learning points\n",
    "hist_df = pd.DataFrame(hist.history) \n",
    "hist_csv_file = './LSTM_phase_3L_%s.csv'%(unit)\n",
    "with open(hist_csv_file, mode='w') as f:\n",
    "    hist_df.to_csv(f)\n",
    "    "
   ]
  },
  {
   "cell_type": "code",
   "execution_count": null,
   "id": "3d30ba30",
   "metadata": {},
   "outputs": [],
   "source": [
    "#to plot the loss curve\n",
    "df1=pd.read_csv('./LSTM_phase_3L_50.csv',header=None)\n",
    "df1 = df1.iloc[1: , :]\n",
    "df1.rename({0: 'epoch',\n",
    "            1: 'loss',\n",
    "            2: 'mse',\n",
    "            3: 'val_loss',\n",
    "            4: 'val_mse',}, axis=1, inplace=True)\n",
    "\n",
    "df1 = df1.astype({'epoch':int,'mse':float,'val_mse':float,'loss':float,'val_loss':float})\n",
    "\n",
    "\n",
    "\n",
    "plt.figure(figsize=(18,8))\n",
    "plt.subplot(1,2,1)\n",
    "plt.plot(df1['mse'],color='b',label='NMSE')\n",
    "\n",
    "plt.plot(df1['val_mse'],color='r',label='val_nmse')\n",
    "plt.title('Training and Validation NMSE', fontsize=16)\n",
    "plt.xlabel('Nbr of epoch')\n",
    "plt.ylabel('NMSE')\n",
    "\n",
    "plt.legend()\n",
    "plt.grid()\n",
    "\n",
    "plt.subplot(1,2,2)\n",
    "plt.plot(df1['loss'],color='b',label='loss')\n",
    "\n",
    "\n",
    "plt.plot(df1['val_loss'],color='r',label='val_loss')\n",
    "plt.title('Training and Validation Loss', fontsize=16)\n",
    "plt.xlabel('Nbr of epoch')\n",
    "plt.ylabel('Loss')\n",
    "\n",
    "plt.legend()\n",
    "plt.grid()\n",
    "plt.savefig('LSTM_phase_siw_train.png')\n",
    "plt.show()\n"
   ]
  },
  {
   "cell_type": "code",
   "execution_count": null,
   "id": "2796f04b",
   "metadata": {},
   "outputs": [],
   "source": []
  }
 ],
 "metadata": {
  "kernelspec": {
   "display_name": "Python 3 (ipykernel)",
   "language": "python",
   "name": "python3"
  },
  "language_info": {
   "codemirror_mode": {
    "name": "ipython",
    "version": 3
   },
   "file_extension": ".py",
   "mimetype": "text/x-python",
   "name": "python",
   "nbconvert_exporter": "python",
   "pygments_lexer": "ipython3",
   "version": "3.9.13"
  },
  "papermill": {
   "default_parameters": {},
   "duration": 2132.610748,
   "end_time": "2021-11-17T19:25:35.107114",
   "environment_variables": {},
   "exception": null,
   "input_path": "__notebook__.ipynb",
   "output_path": "__notebook__.ipynb",
   "parameters": {},
   "start_time": "2021-11-17T18:50:02.496366",
   "version": "2.3.3"
  }
 },
 "nbformat": 4,
 "nbformat_minor": 5
}
